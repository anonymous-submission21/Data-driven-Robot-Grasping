{
 "cells": [
  {
   "cell_type": "code",
   "execution_count": 1,
   "id": "de8c2e29",
   "metadata": {},
   "outputs": [],
   "source": [
    "import gym\n",
    "import math\n",
    "import random\n",
    "import numpy as np\n",
    "import matplotlib.pyplot as plt\n",
    "%matplotlib inline\n",
    "\n",
    "from collections import namedtuple, deque\n",
    "from itertools import count\n",
    "from PIL import Image\n",
    "\n",
    "import torch\n",
    "import torch.nn as nn\n",
    "import torch.optim as optim\n",
    "import torch.nn.functional as F\n",
    "import torchvision.transforms as T"
   ]
  },
  {
   "cell_type": "code",
   "execution_count": 2,
   "id": "894b49a1",
   "metadata": {},
   "outputs": [
    {
     "name": "stdout",
     "output_type": "stream",
     "text": [
      "current_dir=C:\\Users\\Kami\\anaconda3\\envs\\robot_grasping\\lib\\site-packages\\pybullet_envs\\bullet\n"
     ]
    }
   ],
   "source": [
    "from pybullet_envs.bullet.kukaGymEnv import KukaGymEnv\n",
    "from pybullet_envs.bullet.kuka_diverse_object_gym_env import KukaDiverseObjectEnv\n",
    "import random\n",
    "import os\n",
    "from gym import spaces\n",
    "import time\n",
    "import pybullet as p\n",
    "from pybullet_envs.bullet import kuka\n",
    "import numpy as np\n",
    "import pybullet_data\n",
    "import pdb\n",
    "import distutils.dir_util\n",
    "import glob\n",
    "from pkg_resources import parse_version\n",
    "import gym"
   ]
  },
  {
   "cell_type": "code",
   "execution_count": 3,
   "id": "17fe4a58",
   "metadata": {},
   "outputs": [],
   "source": [
    "env = KukaDiverseObjectEnv(urdfRoot=pybullet_data.getDataPath(),\n",
    "                           actionRepeat=80,\n",
    "                           isEnableSelfCollision=True,\n",
    "                           renders=True,\n",
    "                           isDiscrete=True,\n",
    "                           maxSteps=15,\n",
    "                           dv=0.06,\n",
    "                           removeHeightHack=False,\n",
    "                           blockRandom=0.,\n",
    "                           cameraRandom=0,\n",
    "                           width=64,\n",
    "                           height=64,\n",
    "                           numObjects=1,\n",
    "                           isTest=False)"
   ]
  },
  {
   "cell_type": "code",
   "execution_count": 4,
   "id": "696897e3",
   "metadata": {},
   "outputs": [
    {
     "name": "stdout",
     "output_type": "stream",
     "text": [
      "GPU IS AVAILABLE :D\n"
     ]
    }
   ],
   "source": [
    "if torch.cuda.is_available():\n",
    "    device = torch.device(\"cuda\")\n",
    "    print('GPU IS AVAILABLE :D') \n",
    "else:  \n",
    "    device = torch.device(\"cpu\") \n",
    "    print('GPU not available')"
   ]
  },
  {
   "cell_type": "code",
   "execution_count": 5,
   "id": "5d078901",
   "metadata": {},
   "outputs": [],
   "source": [
    "Transition = namedtuple('Transition',\n",
    "                       ('state',\n",
    "                       'action',\n",
    "                       'next_state',\n",
    "                       'reward'))\n",
    "\n",
    "class ReplayMemory(object):\n",
    "    def __init__(self, capacity):\n",
    "        self.memory = deque([], maxlen=capacity)\n",
    "        \n",
    "    def push(self, *args):\n",
    "        \"save a transition\"\n",
    "        self.memory.append(Transition(*args))\n",
    "        \n",
    "    def sample(self, batch_size):\n",
    "        return random.sample(self.memory, batch_size)\n",
    "    \n",
    "    def __len__(self):\n",
    "        return len(self.memory)"
   ]
  },
  {
   "cell_type": "code",
   "execution_count": 6,
   "id": "a2ac4e48",
   "metadata": {},
   "outputs": [],
   "source": [
    "class DQN(nn.Module):\n",
    "    def __init__(self, h, w, outputs):\n",
    "        super(DQN, self).__init__()\n",
    "        self.conv1 = nn.Conv2d(3, 32, kernel_size=3, stride=1)\n",
    "        self.conv2 = nn.Conv2d(32, 32, kernel_size=2, stride=1)\n",
    "        self.conv3 = nn.Conv2d(32, 32, kernel_size=2, stride=1)\n",
    "        \n",
    "        self.fn1 = nn.Linear(7*7*32, 32)\n",
    "        self.fn2 = nn.Linear(32, 32)\n",
    "        self.fn3 = nn.Linear(32, outputs) \n",
    "        \n",
    "    def forward(self, x): # x is the observation \n",
    "        x = x.to(device)\n",
    "        \n",
    "        x = F.relu(F.max_pool2d(self.conv1(x), 2))\n",
    "        x = F.relu(F.max_pool2d(self.conv2(x), 2))\n",
    "        x = F.relu(F.max_pool2d(self.conv3(x), 2))\n",
    "        \n",
    "        x = x.view(-1, 7*7*32) \n",
    "        x = F.relu(self.fn1(x))\n",
    "        x = F.relu(self.fn2(x))\n",
    "        \n",
    "        return self.fn3(x)"
   ]
  },
  {
   "cell_type": "code",
   "execution_count": 7,
   "id": "b020bbed",
   "metadata": {},
   "outputs": [],
   "source": [
    "env.reset()\n",
    "\n",
    "BATCH_SIZE = 128\n",
    "GAMMA = 0.9\n",
    "EPS_START = 0.9\n",
    "EPS_END = 0.05\n",
    "EPS_DECAY = 200\n",
    "TARGET_UPDATE = 50\n",
    "\n",
    "init_screen = env._get_observation()\n",
    "screen_height, screen_width, _ = init_screen.shape\n",
    "\n",
    "n_actions = 7 \n",
    "\n",
    "policy_net = DQN(screen_height, screen_width, n_actions).to(device)\n",
    "target_net = DQN(screen_height, screen_width, n_actions).to(device)\n",
    "target_net.load_state_dict(policy_net.state_dict()) \n",
    "target_net.eval()\n",
    "\n",
    "optimizer = optim.RMSprop(policy_net.parameters())\n",
    "memory = ReplayMemory(50000)"
   ]
  },
  {
   "cell_type": "code",
   "execution_count": 9,
   "id": "636544d6",
   "metadata": {},
   "outputs": [
    {
     "data": {
      "text/plain": [
       "<All keys matched successfully>"
      ]
     },
     "execution_count": 9,
     "metadata": {},
     "output_type": "execute_result"
    }
   ],
   "source": [
    "policy_net.load_state_dict(torch.load('Policy-net Model2.pt'), strict=False)\n",
    "target_net.load_state_dict(torch.load('Target-net Model2.pt'), strict=False)"
   ]
  },
  {
   "cell_type": "code",
   "execution_count": 10,
   "id": "38e2a7c6",
   "metadata": {},
   "outputs": [],
   "source": [
    "steps_done = 0"
   ]
  },
  {
   "cell_type": "code",
   "execution_count": 11,
   "id": "36a0b401",
   "metadata": {},
   "outputs": [],
   "source": [
    "def select_action(state):\n",
    "    global steps_done\n",
    "    sample = random.random()\n",
    "    eps_threshold = EPS_END + (EPS_START - EPS_END) * \\\n",
    "        math.exp(-1. * steps_done / EPS_DECAY) \n",
    "    steps_done += 1\n",
    "    if sample > eps_threshold:\n",
    "        with torch.no_grad():\n",
    "            return policy_net(state).max(1)[1].view(1, 1), eps_threshold\n",
    "    else:\n",
    "        return torch.tensor([[random.randrange(n_actions)]], device=device, dtype=torch.long), eps_threshold"
   ]
  },
  {
   "cell_type": "code",
   "execution_count": 12,
   "id": "d4d25aa8",
   "metadata": {},
   "outputs": [],
   "source": [
    "def optimize_model():\n",
    "    if len(memory) < BATCH_SIZE:\n",
    "        return\n",
    "    transitions = memory.sample(BATCH_SIZE) \n",
    "    batch = Transition(*zip(*transitions))\n",
    "\n",
    "    non_final_mask = torch.tensor(tuple(map(lambda s: s is not None,\n",
    "                                          batch.next_state)), device=device, dtype=torch.bool)\n",
    "    non_final_next_states = torch.cat([s for s in batch.next_state\n",
    "                                                if s is not None])\n",
    "    state_batch = torch.cat(batch.state)\n",
    "    action_batch = torch.cat(batch.action)\n",
    "    reward_batch = torch.cat(batch.reward)\n",
    "\n",
    "\n",
    "    state_action_values = policy_net(state_batch).gather(1, action_batch) \n",
    "\n",
    "    \n",
    "    next_state_values = torch.zeros(BATCH_SIZE, device=device)\n",
    "    next_state_values[non_final_mask] = target_net(non_final_next_states).max(1)[0].detach() \n",
    "    \n",
    "    expected_state_action_values = (next_state_values * GAMMA) + reward_batch \n",
    "    \n",
    "    criterion = nn.SmoothL1Loss() \n",
    "    loss = criterion(state_action_values, expected_state_action_values.unsqueeze(1))\n",
    "\n",
    "    # Optimize the model \n",
    "    optimizer.zero_grad()\n",
    "    loss.backward()\n",
    "    for param in policy_net.parameters():\n",
    "        param.grad.data.clamp_(-1, 1)\n",
    "    optimizer.step()"
   ]
  },
  {
   "cell_type": "code",
   "execution_count": 13,
   "id": "db221ba5",
   "metadata": {},
   "outputs": [],
   "source": [
    "def get_state(state):\n",
    "    state = state.transpose((2,0,1))\n",
    "    state = torch.from_numpy(state)\n",
    "    state = state.float()\n",
    "    return state.unsqueeze(0)"
   ]
  },
  {
   "cell_type": "code",
   "execution_count": 14,
   "id": "d763c3b7",
   "metadata": {},
   "outputs": [],
   "source": [
    "import matplotlib\n",
    "is_ipython = 'inline' in matplotlib.get_backend()\n",
    "if is_ipython:\n",
    "    from IPython import display\n",
    "\n",
    "plt.ion()\n",
    "\n",
    "def plot_durations(): # plotting duration of each episode?\n",
    "    plt.figure(2)\n",
    "    plt.clf()\n",
    "    durations_t = torch.tensor(episode_durations, dtype=torch.float)\n",
    "    plt.title('Training...')\n",
    "    plt.xlabel('Episode')\n",
    "    plt.ylabel('Duration')\n",
    "    plt.plot(durations_t.numpy())\n",
    "    # Take 100 episode averages and plot them too\n",
    "    if len(durations_t) >= 100:\n",
    "        means = durations_t.unfold(0, 100, 1).mean(1).view(-1)\n",
    "        means = torch.cat((torch.zeros(99), means))\n",
    "        plt.plot(means.numpy())\n",
    "\n",
    "    plt.pause(0.001)  # pause a bit so that plots are updated\n",
    "    if is_ipython:\n",
    "        display.clear_output(wait=True)\n",
    "        display.display(plt.gcf())"
   ]
  },
  {
   "cell_type": "code",
   "execution_count": 15,
   "id": "7249b008",
   "metadata": {
    "scrolled": true
   },
   "outputs": [
    {
     "data": {
      "text/plain": [
       "<Figure size 432x288 with 0 Axes>"
      ]
     },
     "metadata": {},
     "output_type": "display_data"
    },
    {
     "name": "stdout",
     "output_type": "stream",
     "text": [
      "Complete\n"
     ]
    },
    {
     "data": {
      "text/plain": [
       "<Figure size 432x288 with 0 Axes>"
      ]
     },
     "metadata": {},
     "output_type": "display_data"
    }
   ],
   "source": [
    "num_episodes = 12500 # max 15 steps per episode, avg 8 steps per ep\n",
    "success_rate = 0\n",
    "episode_durations = []\n",
    "eps_history = []\n",
    "rewards = []\n",
    "# TD_errors = np.zeros(1000)\n",
    "SAVE_EVERY = 500\n",
    "\n",
    "for i_episode in range(num_episodes):\n",
    "    # Initialize the environment and state\n",
    "    state = env.reset()\n",
    "    state = get_state(state)\n",
    "\n",
    "    for t in count():\n",
    "        # Select and perform an action\n",
    "        action, eps = select_action(state)\n",
    "        next_state, reward, done, _ = env.step(action.item()) \n",
    "        \n",
    "        # record any success\n",
    "        if reward == 1:\n",
    "            success_rate += 1\n",
    "        \n",
    "        reward = torch.tensor([reward], device=device) # need to change reward from numpy float to tensor and send to device\n",
    "        next_state = get_state(next_state)\n",
    "\n",
    "        # Store the transition in memory\n",
    "        memory.push(state, action, next_state, reward)\n",
    "        \n",
    "        # record MC error\n",
    "#         TD_error = reward + GAMMA*target_net(next_state).detach() - policy_net(state).detach()\n",
    "#         TD_errors[i_episode] = torch.sum(TD_error).item()\n",
    "        \n",
    "        # Move to the next state\n",
    "        state = next_state\n",
    "        \n",
    "        # Perform one step of the optimization (on the policy network)\n",
    "        optimize_model()\n",
    "        if done: # get duration of episode once episode has terminated\n",
    "            episode_durations.append(t + 1)\n",
    "            plot_durations()\n",
    "            break\n",
    "            \n",
    "    eps_history.append(eps)\n",
    "    rewards.append(reward)\n",
    "    \n",
    "    # Update the target network, copying all weights and biases in DQN\n",
    "    if i_episode % TARGET_UPDATE == 0:\n",
    "        target_net.load_state_dict(policy_net.state_dict())\n",
    "        \n",
    "    if i_episode % SAVE_EVERY == 0:\n",
    "        torch.save(policy_net.state_dict(), 'Policy-net Model final.pt')\n",
    "        torch.save(target_net.state_dict(), 'Target-net Model final.pt')\n",
    "\n",
    "print('Complete')\n",
    "env.render()\n",
    "env.close()\n",
    "plt.ioff()\n",
    "plt.show()"
   ]
  },
  {
   "cell_type": "code",
   "execution_count": 16,
   "id": "b9f643ed",
   "metadata": {},
   "outputs": [],
   "source": [
    "torch.save(policy_net.state_dict(), 'Policy-net Model final 2.pt')\n",
    "torch.save(target_net.state_dict(), 'Target-net Model final 2.pt')"
   ]
  },
  {
   "cell_type": "code",
   "execution_count": 19,
   "id": "c3ba4536",
   "metadata": {},
   "outputs": [],
   "source": [
    "torch.save(memory, 'Replay Buffer.pt')"
   ]
  },
  {
   "cell_type": "code",
   "execution_count": 17,
   "id": "0dbaaf68",
   "metadata": {},
   "outputs": [
    {
     "data": {
      "text/plain": [
       "2298"
      ]
     },
     "execution_count": 17,
     "metadata": {},
     "output_type": "execute_result"
    }
   ],
   "source": [
    "success_rate"
   ]
  },
  {
   "cell_type": "code",
   "execution_count": 17,
   "id": "9cad79be",
   "metadata": {},
   "outputs": [
    {
     "data": {
      "image/png": "[encoded data removed]",
      "text/plain": [
       "<Figure size 432x288 with 1 Axes>"
      ]
     },
     "metadata": {
      "needs_background": "light"
     },
     "output_type": "display_data"
    }
   ],
   "source": [
    "plt.plot(np.arange(len(episode_durations)), episode_durations)\n",
    "plt.xlabel('Episode')\n",
    "plt.ylabel('Episode Duration')\n",
    "plt.title('Duration per Episode')\n",
    "plt.show()"
   ]
  },
  {
   "cell_type": "code",
   "execution_count": 19,
   "id": "4ffc910c",
   "metadata": {},
   "outputs": [
    {
     "data": {
      "text/plain": [
       "22.400000000000002"
      ]
     },
     "execution_count": 19,
     "metadata": {},
     "output_type": "execute_result"
    }
   ],
   "source": [
    "(success_rate/num_episodes) * 100"
   ]
  },
  {
   "cell_type": "code",
   "execution_count": 20,
   "id": "dd54ede3",
   "metadata": {},
   "outputs": [
    {
     "data": {
      "image/png": "[encoded data removed]",
      "text/plain": [
       "<Figure size 432x288 with 1 Axes>"
      ]
     },
     "metadata": {
      "needs_background": "light"
     },
     "output_type": "display_data"
    }
   ],
   "source": [
    "plt.plot(np.arange(len(eps_history)), eps_history)\n",
    "plt.xlabel('Episode')\n",
    "plt.ylabel('Epsilon')\n",
    "plt.title('Epsilon per Episode (epsilon decay)')\n",
    "plt.show()"
   ]
  },
  {
   "cell_type": "code",
   "execution_count": 22,
   "id": "c06a79c5",
   "metadata": {},
   "outputs": [],
   "source": [
    "for i in range(len(rewards)):\n",
    "    rewards[i] = rewards[i].item()"
   ]
  },
  {
   "cell_type": "code",
   "execution_count": 23,
   "id": "0cc2eeb1",
   "metadata": {},
   "outputs": [
    {
     "data": {
      "image/png": "[encoded data removed]",
      "text/plain": [
       "<Figure size 432x288 with 1 Axes>"
      ]
     },
     "metadata": {
      "needs_background": "light"
     },
     "output_type": "display_data"
    }
   ],
   "source": [
    "plt.plot(np.arange(len(rewards)), rewards, 'bo', markersize=1)\n",
    "plt.xlabel('Episode')\n",
    "plt.ylabel('Reward')\n",
    "plt.title('Reward per Episode')\n",
    "plt.show()"
   ]
  },
  {
   "cell_type": "code",
   "execution_count": null,
   "id": "d2cdf083",
   "metadata": {},
   "outputs": [],
   "source": []
  }
 ],
 "metadata": {
  "kernelspec": {
   "display_name": "Python 3 (ipykernel)",
   "language": "python",
   "name": "python3"
  },
  "language_info": {
   "codemirror_mode": {
    "name": "ipython",
    "version": 3
   },
   "file_extension": ".py",
   "mimetype": "text/x-python",
   "name": "python",
   "nbconvert_exporter": "python",
   "pygments_lexer": "ipython3",
   "version": "3.8.0"
  }
 },
 "nbformat": 4,
 "nbformat_minor": 5
}
