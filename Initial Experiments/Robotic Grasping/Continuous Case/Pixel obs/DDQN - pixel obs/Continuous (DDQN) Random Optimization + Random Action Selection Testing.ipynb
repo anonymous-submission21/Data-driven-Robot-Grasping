{
 "cells": [
  {
   "cell_type": "code",
   "execution_count": 1,
   "id": "a964fe6f",
   "metadata": {},
   "outputs": [],
   "source": [
    "import gym\n",
    "import math\n",
    "import random\n",
    "import numpy as np\n",
    "import matplotlib.pyplot as plt\n",
    "%matplotlib inline\n",
    "\n",
    "from collections import namedtuple, deque\n",
    "from itertools import count\n",
    "from PIL import Image\n",
    "\n",
    "import torch\n",
    "import torch.nn as nn\n",
    "import torch.optim as optim\n",
    "import torch.nn.functional as F\n",
    "import torchvision.transforms as T"
   ]
  },
  {
   "cell_type": "code",
   "execution_count": 2,
   "id": "ac88b037",
   "metadata": {},
   "outputs": [
    {
     "name": "stdout",
     "output_type": "stream",
     "text": [
      "current_dir=C:\\Users\\Kami\\anaconda3\\envs\\robot_grasping\\lib\\site-packages\\pybullet_envs\\bullet\n"
     ]
    }
   ],
   "source": [
    "from pybullet_envs.bullet.kukaGymEnv import KukaGymEnv\n",
    "from pybullet_envs.bullet.kuka_diverse_object_gym_env import KukaDiverseObjectEnv\n",
    "import random\n",
    "import os\n",
    "from gym import spaces\n",
    "import time\n",
    "import pybullet as p\n",
    "from pybullet_envs.bullet import kuka\n",
    "import numpy as np\n",
    "import pybullet_data\n",
    "import pdb\n",
    "import distutils.dir_util\n",
    "import glob\n",
    "from pkg_resources import parse_version\n",
    "import gym"
   ]
  },
  {
   "cell_type": "code",
   "execution_count": 3,
   "id": "3f372b2e",
   "metadata": {},
   "outputs": [],
   "source": [
    "env = KukaDiverseObjectEnv(urdfRoot=pybullet_data.getDataPath(),\n",
    "                           actionRepeat=80,\n",
    "                           isEnableSelfCollision=True,\n",
    "                           renders=True,\n",
    "                           isDiscrete=False,\n",
    "                           maxSteps=15,\n",
    "                           dv=0.06,\n",
    "                           removeHeightHack=False,\n",
    "                           blockRandom=0.,\n",
    "                           cameraRandom=0,\n",
    "                           width=64,\n",
    "                           height=64,\n",
    "                           numObjects=1,\n",
    "                           isTest=True)"
   ]
  },
  {
   "cell_type": "code",
   "execution_count": 5,
   "id": "09461e09",
   "metadata": {},
   "outputs": [
    {
     "name": "stdout",
     "output_type": "stream",
     "text": [
      "GPU IS AVAILABLE :D\n"
     ]
    }
   ],
   "source": [
    "if torch.cuda.is_available():\n",
    "    device = torch.device(\"cuda\")\n",
    "    print('GPU IS AVAILABLE :D') \n",
    "else:  \n",
    "    device = torch.device(\"cpu\") \n",
    "    print('GPU not available')"
   ]
  },
  {
   "cell_type": "code",
   "execution_count": 7,
   "id": "2600d4fd",
   "metadata": {},
   "outputs": [],
   "source": [
    "class DQN(nn.Module):\n",
    "    def __init__(self, h, w):\n",
    "        super(DQN, self).__init__()\n",
    "        self.conv1 = nn.Conv2d(3, 32, kernel_size=3, stride=1)\n",
    "        self.conv2 = nn.Conv2d(32, 32, kernel_size=2, stride=1)\n",
    "        self.conv3 = nn.Conv2d(32, 32, kernel_size=2, stride=1)\n",
    "          \n",
    "        self.fn1 = nn.Linear(7*7*32, 32)\n",
    "        \n",
    "        self.fn2 = nn.Linear(3, 32) # need to change this to 4\n",
    "        \n",
    "        self.fn3 = nn.Linear(32, 32)\n",
    "        self.fn4 = nn.Linear(32, 1)\n",
    "        \n",
    "    def forward(self, s, a): # s is the observation, a is the action \n",
    "        s = s.to(device)\n",
    "        a = a.to(device)\n",
    "        \n",
    "        s = F.relu(F.max_pool2d(self.conv1(s), 2))\n",
    "        s = F.relu(F.max_pool2d(self.conv2(s), 2))\n",
    "        s = F.relu(F.max_pool2d(self.conv3(s), 2))\n",
    "        \n",
    "        s = s.view(-1, 7*7*32) \n",
    "        s = F.relu(self.fn1(s))\n",
    "        \n",
    "        a = F.relu(self.fn2(a))\n",
    "        \n",
    "        val = torch.add(s, a)\n",
    "        \n",
    "        val = F.relu(self.fn3(val))\n",
    "        \n",
    "        return self.fn4(val)"
   ]
  },
  {
   "cell_type": "code",
   "execution_count": 8,
   "id": "8886ffe3",
   "metadata": {},
   "outputs": [],
   "source": [
    "env.reset()\n",
    "\n",
    "BATCH_SIZE = 128\n",
    "GAMMA = 0.9\n",
    "EPS_START = 0.9\n",
    "EPS_END = 0.05\n",
    "EPS_DECAY = 200\n",
    "TARGET_UPDATE = 50\n",
    "\n",
    "init_screen = env._get_observation()\n",
    "screen_height, screen_width, _ = init_screen.shape\n",
    "\n",
    "n_actions = 7 \n",
    "\n",
    "policy_net = DQN(screen_height, screen_width).to(device)\n",
    "target_net = DQN(screen_height, screen_width).to(device)\n",
    "target_net.load_state_dict(policy_net.state_dict()) \n",
    "target_net.eval()\n",
    "\n",
    "optimizer = optim.RMSprop(policy_net.parameters())\n",
    "# memory = ReplayBuffer(100000)"
   ]
  },
  {
   "cell_type": "code",
   "execution_count": 9,
   "id": "21c5bfdb",
   "metadata": {},
   "outputs": [
    {
     "data": {
      "text/plain": [
       "<All keys matched successfully>"
      ]
     },
     "execution_count": 9,
     "metadata": {},
     "output_type": "execute_result"
    }
   ],
   "source": [
    "policy_net.load_state_dict(torch.load('Random Optim Policy-net DDQN.pt'), strict=False)\n",
    "target_net.load_state_dict(torch.load('Random Optim Target-net DDQN.pt'), strict=False)"
   ]
  },
  {
   "cell_type": "code",
   "execution_count": 10,
   "id": "565a68f9",
   "metadata": {},
   "outputs": [],
   "source": [
    "steps_done = 0"
   ]
  },
  {
   "cell_type": "code",
   "execution_count": 11,
   "id": "7df52084",
   "metadata": {},
   "outputs": [],
   "source": [
    "def select_action(state): # random action selection \n",
    "    global steps_done\n",
    "    steps_done += 1\n",
    "    \n",
    "    actions = torch.zeros(16,3)\n",
    "    for i in range(16):\n",
    "        actions[i] = torch.tensor(env.action_space.sample())\n",
    "\n",
    "    states = state.tile(16,).reshape(16, 3, 64, 64)\n",
    "    q_val = policy_net(states, actions)\n",
    "    \n",
    "    action = actions[torch.argmax(q_val)]\n",
    "    \n",
    "    return action"
   ]
  },
  {
   "cell_type": "code",
   "execution_count": 12,
   "id": "b5dcc277",
   "metadata": {},
   "outputs": [],
   "source": [
    "def get_state(state):\n",
    "    state = state.transpose((2,0,1))\n",
    "    state = torch.from_numpy(state)\n",
    "    state = state.float()\n",
    "    return state.unsqueeze(0)"
   ]
  },
  {
   "cell_type": "code",
   "execution_count": 13,
   "id": "16eb77ec",
   "metadata": {},
   "outputs": [],
   "source": [
    "def test(num_episodes=10, max_episode_length=15):\n",
    "    episode_durations = []\n",
    "    eps_history = []\n",
    "    rewards = []\n",
    "    success_rate = 0\n",
    "    \n",
    "    for i_episode in range(num_episodes):\n",
    "        state = env.reset()\n",
    "        state = get_state(state)\n",
    "        \n",
    "        for t in range(max_episode_length):\n",
    "            action = select_action(state)\n",
    "            next_state, reward, done, _ = env.step(action) #.item())\n",
    "            \n",
    "            if reward == 1:\n",
    "                print('success')\n",
    "                success_rate += 1\n",
    "                                        \n",
    "            state = get_state(next_state)\n",
    "            \n",
    "            if done:\n",
    "                episode_durations.append(t+1)\n",
    "                break\n",
    "        rewards.append(reward)\n",
    "        \n",
    "    print('Complete')\n",
    "    return episode_durations, rewards, success_rate"
   ]
  }
 ],
 "metadata": {
  "kernelspec": {
   "display_name": "Python 3 (ipykernel)",
   "language": "python",
   "name": "python3"
  },
  "language_info": {
   "codemirror_mode": {
    "name": "ipython",
    "version": 3
   },
   "file_extension": ".py",
   "mimetype": "text/x-python",
   "name": "python",
   "nbconvert_exporter": "python",
   "pygments_lexer": "ipython3",
   "version": "3.8.0"
  }
 },
 "nbformat": 4,
 "nbformat_minor": 5
}
