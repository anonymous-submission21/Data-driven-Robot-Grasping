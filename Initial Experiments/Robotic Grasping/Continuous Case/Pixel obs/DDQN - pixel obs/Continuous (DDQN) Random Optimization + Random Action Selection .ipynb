{
 "cells": [
  {
   "cell_type": "code",
   "execution_count": 1,
   "id": "3b11101c",
   "metadata": {},
   "outputs": [],
   "source": [
    "import gym\n",
    "import math\n",
    "import random\n",
    "import numpy as np\n",
    "import matplotlib.pyplot as plt\n",
    "%matplotlib inline\n",
    "\n",
    "from collections import namedtuple, deque\n",
    "from itertools import count\n",
    "from PIL import Image\n",
    "\n",
    "import torch\n",
    "import torch.nn as nn\n",
    "import torch.optim as optim\n",
    "import torch.nn.functional as F\n",
    "import torchvision.transforms as T"
   ]
  },
  {
   "cell_type": "code",
   "execution_count": 2,
   "id": "670afe24",
   "metadata": {},
   "outputs": [
    {
     "name": "stdout",
     "output_type": "stream",
     "text": [
      "current_dir=C:\\Users\\Kami\\anaconda3\\envs\\robot_grasping\\lib\\site-packages\\pybullet_envs\\bullet\n"
     ]
    }
   ],
   "source": [
    "from pybullet_envs.bullet.kukaGymEnv import KukaGymEnv\n",
    "from pybullet_envs.bullet.kuka_diverse_object_gym_env import KukaDiverseObjectEnv\n",
    "import random\n",
    "import os\n",
    "from gym import spaces\n",
    "import time\n",
    "import pybullet as p\n",
    "from pybullet_envs.bullet import kuka\n",
    "import numpy as np\n",
    "import pybullet_data\n",
    "import pdb\n",
    "import distutils.dir_util\n",
    "import glob\n",
    "from pkg_resources import parse_version\n",
    "import gym"
   ]
  },
  {
   "cell_type": "code",
   "execution_count": 3,
   "id": "928187d4",
   "metadata": {},
   "outputs": [],
   "source": [
    "env = KukaDiverseObjectEnv(urdfRoot=pybullet_data.getDataPath(),\n",
    "                           actionRepeat=80,\n",
    "                           isEnableSelfCollision=True,\n",
    "                           renders=False,\n",
    "                           isDiscrete=False,\n",
    "                           maxSteps=15,\n",
    "                           dv=0.06,\n",
    "                           removeHeightHack=False,\n",
    "                           blockRandom=0.,\n",
    "                           cameraRandom=0,\n",
    "                           width=64,\n",
    "                           height=64,\n",
    "                           numObjects=1,\n",
    "                           isTest=False)"
   ]
  },
  {
   "cell_type": "code",
   "execution_count": 5,
   "id": "c7d4bd75",
   "metadata": {},
   "outputs": [
    {
     "name": "stdout",
     "output_type": "stream",
     "text": [
      "GPU IS AVAILABLE :D\n"
     ]
    }
   ],
   "source": [
    "if torch.cuda.is_available():\n",
    "    device = torch.device(\"cuda\")\n",
    "    print('GPU IS AVAILABLE :D') \n",
    "else:  \n",
    "    device = torch.device(\"cpu\") \n",
    "    print('GPU not available')"
   ]
  },
  {
   "cell_type": "code",
   "execution_count": 6,
   "id": "0883cec3",
   "metadata": {},
   "outputs": [],
   "source": [
    "Transition = namedtuple('Transition',\n",
    "                       ('state',\n",
    "                       'action',\n",
    "                       'next_state',\n",
    "                       'reward'))\n",
    "\n",
    "class ReplayBuffer(object):\n",
    "    def __init__(self, capacity):\n",
    "        self.memory = deque([], maxlen=capacity)\n",
    "        \n",
    "    def push(self, *args):\n",
    "        \"save a transition\"\n",
    "        self.memory.append(Transition(*args))\n",
    "        \n",
    "    def sample(self, batch_size):\n",
    "        return random.sample(self.memory, batch_size)\n",
    "    \n",
    "    def __len__(self):\n",
    "        return len(self.memory)"
   ]
  },
  {
   "cell_type": "code",
   "execution_count": 7,
   "id": "46d00f50",
   "metadata": {},
   "outputs": [],
   "source": [
    "class DQN(nn.Module):\n",
    "    def __init__(self, h, w):\n",
    "        super(DQN, self).__init__()\n",
    "        self.conv1 = nn.Conv2d(3, 32, kernel_size=3, stride=1)\n",
    "        self.conv2 = nn.Conv2d(32, 32, kernel_size=2, stride=1)\n",
    "        self.conv3 = nn.Conv2d(32, 32, kernel_size=2, stride=1)\n",
    "          \n",
    "        self.fn1 = nn.Linear(7*7*32, 32)\n",
    "        \n",
    "        self.fn2 = nn.Linear(3, 32) # need to change this to 4\n",
    "        \n",
    "        self.fn3 = nn.Linear(32, 32)\n",
    "        self.fn4 = nn.Linear(32, 1)\n",
    "        \n",
    "    def forward(self, s, a): # s is the observation, a is the action \n",
    "        s = s.to(device)\n",
    "        a = a.to(device)\n",
    "        \n",
    "        s = F.relu(F.max_pool2d(self.conv1(s), 2))\n",
    "        s = F.relu(F.max_pool2d(self.conv2(s), 2))\n",
    "        s = F.relu(F.max_pool2d(self.conv3(s), 2))\n",
    "        \n",
    "        s = s.view(-1, 7*7*32) \n",
    "        s = F.relu(self.fn1(s))\n",
    "        \n",
    "        a = F.relu(self.fn2(a))\n",
    "        \n",
    "        val = torch.add(s, a)\n",
    "        \n",
    "        val = F.relu(self.fn3(val))\n",
    "        \n",
    "        return self.fn4(val)"
   ]
  },
  {
   "cell_type": "code",
   "execution_count": 8,
   "id": "c6a73bfe",
   "metadata": {},
   "outputs": [],
   "source": [
    "env.reset()\n",
    "\n",
    "BATCH_SIZE = 128\n",
    "GAMMA = 0.9\n",
    "EPS_START = 0.9\n",
    "EPS_END = 0.05\n",
    "EPS_DECAY = 200\n",
    "TARGET_UPDATE = 50\n",
    "\n",
    "init_screen = env._get_observation()\n",
    "screen_height, screen_width, _ = init_screen.shape\n",
    "\n",
    "n_actions = 7 \n",
    "\n",
    "policy_net = DQN(screen_height, screen_width).to(device)\n",
    "target_net = DQN(screen_height, screen_width).to(device)\n",
    "target_net.load_state_dict(policy_net.state_dict()) \n",
    "target_net.eval()\n",
    "\n",
    "optimizer = optim.RMSprop(policy_net.parameters())\n",
    "memory = ReplayBuffer(100000)"
   ]
  },
  {
   "cell_type": "code",
   "execution_count": 9,
   "id": "63e28acb",
   "metadata": {},
   "outputs": [],
   "source": [
    "steps_done = 0"
   ]
  },
  {
   "cell_type": "code",
   "execution_count": 10,
   "id": "ec3d3d4d",
   "metadata": {},
   "outputs": [],
   "source": [
    "def select_action(state): # random action selection \n",
    "    global steps_done\n",
    "    steps_done += 1\n",
    "    \n",
    "    actions = torch.zeros(16,3)\n",
    "    for i in range(16):\n",
    "        actions[i] = torch.tensor(env.action_space.sample())\n",
    "\n",
    "    states = state.tile(16,).reshape(16, 3, 64, 64)\n",
    "    q_val = policy_net(states, actions)\n",
    "    \n",
    "    action = actions[torch.argmax(q_val)]\n",
    "    \n",
    "    return action"
   ]
  },
  {
   "cell_type": "code",
   "execution_count": 11,
   "id": "fdc2b450",
   "metadata": {},
   "outputs": [],
   "source": [
    "def optimize_model():\n",
    "    if len(memory) < BATCH_SIZE:\n",
    "        return\n",
    "    transitions = memory.sample(BATCH_SIZE) \n",
    "    batch = Transition(*zip(*transitions))\n",
    "\n",
    "    non_final_mask = torch.tensor(tuple(map(lambda s: s is not None,\n",
    "                                          batch.next_state)), device=device, dtype=torch.bool)\n",
    "    non_final_next_states = torch.cat([s for s in batch.next_state\n",
    "                                                if s is not None])\n",
    "    state_batch = torch.cat(batch.state)\n",
    "    action_batch = torch.cat(batch.action)\n",
    "    reward_batch = torch.cat(batch.reward)\n",
    "    next_state_batch = torch.cat(batch.next_state)\n",
    "\n",
    "    \n",
    "    state_action_values = policy_net(state_batch, action_batch) #.gather(1, action_batch) \n",
    "    target_qvals = torch.zeros(BATCH_SIZE, device=device).reshape(BATCH_SIZE,1)\n",
    "\n",
    "    # DDQN Update\n",
    "    \n",
    "    # random optimisation        \n",
    "    new_next_s_batch = next_state_batch.tile(16,).reshape(16*128,3,64,64)\n",
    "    actions = torch.zeros(16,3)\n",
    "    for i in range(16):\n",
    "        actions[i] = torch.tensor(env.action_space.sample())\n",
    "    new_actions_batch = actions.tile(128,).reshape(16*128,3)\n",
    "    values = policy_net(new_next_s_batch, new_actions_batch).detach().reshape(128,16)\n",
    "    ind = torch.argmax(values, axis=1)\n",
    "    next_actions = actions[ind]\n",
    "    \n",
    "    target_qvals[non_final_mask] = target_net(next_state_batch, next_actions).detach() #gather(1, next_actions).detach()\n",
    "    \n",
    "    # keep the following\n",
    "    expected_state_action_values = (target_qvals * GAMMA) + reward_batch.unsqueeze(1)\n",
    "    \n",
    "    criterion = nn.SmoothL1Loss() \n",
    "\n",
    "\n",
    "    loss = criterion(state_action_values, expected_state_action_values)\n",
    "\n",
    "    # Optimize the model \n",
    "    optimizer.zero_grad()\n",
    "    loss.backward()\n",
    "    for param in policy_net.parameters():\n",
    "        param.grad.data.clamp_(-1, 1)\n",
    "    optimizer.step()"
   ]
  },
  {
   "cell_type": "code",
   "execution_count": 12,
   "id": "ad24cc6e",
   "metadata": {},
   "outputs": [],
   "source": [
    "def get_state(state):\n",
    "    state = state.transpose((2,0,1))\n",
    "    state = torch.from_numpy(state)\n",
    "    state = state.float()\n",
    "    return state.unsqueeze(0)"
   ]
  },
  {
   "cell_type": "code",
   "execution_count": 13,
   "id": "45e666cd",
   "metadata": {},
   "outputs": [],
   "source": [
    "def Agent(num_episodes=1, max_episode_length=15, save_every=500):\n",
    "    episode_durations = []\n",
    "    eps_history = []\n",
    "    rewards = []\n",
    "    success_rate = 0\n",
    "    \n",
    "    for i_episode in range(num_episodes):\n",
    "        state = env.reset()\n",
    "        state = get_state(state)\n",
    "        \n",
    "        for t in range(max_episode_length):\n",
    "            action = select_action(state)\n",
    "            next_state, reward, done, _ = env.step(action) #.item())\n",
    "            \n",
    "            if reward == 1:\n",
    "                success_rate += 1\n",
    "                \n",
    "            reward = torch.tensor([reward], device=device)\n",
    "            next_state = get_state(next_state)\n",
    "            \n",
    "            memory.push(state, action.unsqueeze(0), next_state, reward)\n",
    "            \n",
    "            state = next_state\n",
    "            \n",
    "            optimize_model()\n",
    "            \n",
    "            if done:\n",
    "                episode_durations.append(t+1)\n",
    "                break\n",
    "        \n",
    "        rewards.append(reward.item())\n",
    "        \n",
    "        if i_episode % TARGET_UPDATE == 0:\n",
    "            target_net.load_state_dict(policy_net.state_dict())\n",
    "        \n",
    "        if i_episode % save_every == 0:\n",
    "            torch.save(policy_net.state_dict(), 'Policy-net DDQN.pt')\n",
    "            torch.save(target_net.state_dict(), 'Target-net DDQN.pt')\n",
    "        \n",
    "        if i_episode % 1000 == 0:\n",
    "            print(\"Episode: \", i_episode + 1, \"/\", num_episodes)\n",
    "            \n",
    "    print('Complete')\n",
    "    return episode_durations, rewards, success_rate"
   ]
  },
  {
   "cell_type": "code",
   "execution_count": 14,
   "id": "0533379e",
   "metadata": {
    "scrolled": true
   },
   "outputs": [
    {
     "name": "stdout",
     "output_type": "stream",
     "text": [
      "Episode:  1 / 14000\n",
      "Episode:  1001 / 14000\n",
      "Episode:  2001 / 14000\n",
      "Episode:  3001 / 14000\n",
      "Episode:  4001 / 14000\n",
      "Episode:  5001 / 14000\n",
      "Episode:  6001 / 14000\n",
      "Episode:  7001 / 14000\n",
      "Episode:  8001 / 14000\n",
      "Episode:  9001 / 14000\n",
      "Episode:  10001 / 14000\n",
      "Episode:  11001 / 14000\n",
      "Episode:  12001 / 14000\n",
      "Episode:  13001 / 14000\n",
      "Complete\n"
     ]
    }
   ],
   "source": [
    "episode_durations, rewards, success_rate = Agent(num_episodes = 14000)"
   ]
  },
  {
   "cell_type": "code",
   "execution_count": 31,
   "id": "58e02c81",
   "metadata": {},
   "outputs": [],
   "source": [
    "torch.save(policy_net.state_dict(), 'Random Optim Policy-net DDQN.pt')\n",
    "torch.save(target_net.state_dict(), 'Random Optim Target-net DDQN.pt')"
   ]
  },
  {
   "cell_type": "code",
   "execution_count": 32,
   "id": "f231c359",
   "metadata": {},
   "outputs": [],
   "source": [
    "import pickle\n",
    "memory_file = open('Random Optim Replay Buffer', 'wb')\n",
    "pickle.dump(memory, memory_file)"
   ]
  },
  {
   "cell_type": "code",
   "execution_count": 33,
   "id": "4932e816",
   "metadata": {},
   "outputs": [
    {
     "data": {
      "image/png": "[encoded data removed]",
      "text/plain": [
       "<Figure size 432x288 with 1 Axes>"
      ]
     },
     "metadata": {
      "needs_background": "light"
     },
     "output_type": "display_data"
    }
   ],
   "source": [
    "plt.plot(np.arange(len(episode_durations_durations_durations)), episode_durations)\n",
    "plt.xlabel('Episode')\n",
    "plt.ylabel('Duration')\n",
    "plt.title('Duration per Episode')\n",
    "plt.show()"
   ]
  },
  {
   "cell_type": "code",
   "execution_count": 37,
   "id": "69c15e81",
   "metadata": {},
   "outputs": [
    {
     "data": {
      "image/png": "[encoded data removed]",
      "text/plain": [
       "<Figure size 432x288 with 1 Axes>"
      ]
     },
     "metadata": {
      "needs_background": "light"
     },
     "output_type": "display_data"
    }
   ],
   "source": [
    "plt.plot(np.arange(len(rewards)), rewards, 'bo', markersize=0.1)\n",
    "plt.xlabel('Episode')\n",
    "plt.ylabel('Rewards')\n",
    "plt.title('Rewards per Episode')\n",
    "plt.show()"
   ]
  }
 ],
 "metadata": {
  "kernelspec": {
   "display_name": "Python 3 (ipykernel)",
   "language": "python",
   "name": "python3"
  },
  "language_info": {
   "codemirror_mode": {
    "name": "ipython",
    "version": 3
   },
   "file_extension": ".py",
   "mimetype": "text/x-python",
   "name": "python",
   "nbconvert_exporter": "python",
   "pygments_lexer": "ipython3",
   "version": "3.8.0"
  }
 },
 "nbformat": 4,
 "nbformat_minor": 5
}
